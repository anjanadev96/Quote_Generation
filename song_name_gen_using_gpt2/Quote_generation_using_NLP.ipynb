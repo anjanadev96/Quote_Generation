{
  "nbformat": 4,
  "nbformat_minor": 0,
  "metadata": {
    "colab": {
      "name": "Quote_generation_using_NLP.ipynb",
      "provenance": []
    },
    "kernelspec": {
      "name": "python3",
      "display_name": "Python 3"
    },
    "accelerator": "GPU"
  },
  "cells": [
    {
      "cell_type": "code",
      "metadata": {
        "colab": {
          "base_uri": "https://localhost:8080/"
        },
        "id": "PYDHvrI2-EKK",
        "outputId": "d563670c-bb00-4b39-817a-45b407ea1dbb"
      },
      "source": [
        "!pip3 install gpt-2-simple"
      ],
      "execution_count": 1,
      "outputs": [
        {
          "output_type": "stream",
          "text": [
            "Requirement already satisfied: gpt-2-simple in /usr/local/lib/python3.6/dist-packages (0.7.1)\n",
            "Requirement already satisfied: numpy in /usr/local/lib/python3.6/dist-packages (from gpt-2-simple) (1.19.5)\n",
            "Requirement already satisfied: requests in /usr/local/lib/python3.6/dist-packages (from gpt-2-simple) (2.23.0)\n",
            "Requirement already satisfied: tqdm in /usr/local/lib/python3.6/dist-packages (from gpt-2-simple) (4.41.1)\n",
            "Requirement already satisfied: toposort in /usr/local/lib/python3.6/dist-packages (from gpt-2-simple) (1.6)\n",
            "Requirement already satisfied: regex in /usr/local/lib/python3.6/dist-packages (from gpt-2-simple) (2019.12.20)\n",
            "Requirement already satisfied: urllib3!=1.25.0,!=1.25.1,<1.26,>=1.21.1 in /usr/local/lib/python3.6/dist-packages (from requests->gpt-2-simple) (1.24.3)\n",
            "Requirement already satisfied: certifi>=2017.4.17 in /usr/local/lib/python3.6/dist-packages (from requests->gpt-2-simple) (2020.12.5)\n",
            "Requirement already satisfied: chardet<4,>=3.0.2 in /usr/local/lib/python3.6/dist-packages (from requests->gpt-2-simple) (3.0.4)\n",
            "Requirement already satisfied: idna<3,>=2.5 in /usr/local/lib/python3.6/dist-packages (from requests->gpt-2-simple) (2.10)\n"
          ],
          "name": "stdout"
        }
      ]
    },
    {
      "cell_type": "code",
      "metadata": {
        "colab": {
          "base_uri": "https://localhost:8080/"
        },
        "id": "kWbob_qQ-zrN",
        "outputId": "75541fac-70c2-4bef-8ba7-feeddfc1a4cc"
      },
      "source": [
        "!pip install tensorflow==1.14"
      ],
      "execution_count": 2,
      "outputs": [
        {
          "output_type": "stream",
          "text": [
            "Requirement already satisfied: tensorflow==1.14 in /usr/local/lib/python3.6/dist-packages (1.14.0)\n",
            "Requirement already satisfied: wheel>=0.26 in /usr/local/lib/python3.6/dist-packages (from tensorflow==1.14) (0.36.2)\n",
            "Requirement already satisfied: tensorflow-estimator<1.15.0rc0,>=1.14.0rc0 in /usr/local/lib/python3.6/dist-packages (from tensorflow==1.14) (1.14.0)\n",
            "Requirement already satisfied: astor>=0.6.0 in /usr/local/lib/python3.6/dist-packages (from tensorflow==1.14) (0.8.1)\n",
            "Requirement already satisfied: six>=1.10.0 in /usr/local/lib/python3.6/dist-packages (from tensorflow==1.14) (1.15.0)\n",
            "Requirement already satisfied: absl-py>=0.7.0 in /usr/local/lib/python3.6/dist-packages (from tensorflow==1.14) (0.10.0)\n",
            "Requirement already satisfied: termcolor>=1.1.0 in /usr/local/lib/python3.6/dist-packages (from tensorflow==1.14) (1.1.0)\n",
            "Requirement already satisfied: tensorboard<1.15.0,>=1.14.0 in /usr/local/lib/python3.6/dist-packages (from tensorflow==1.14) (1.14.0)\n",
            "Requirement already satisfied: wrapt>=1.11.1 in /usr/local/lib/python3.6/dist-packages (from tensorflow==1.14) (1.12.1)\n",
            "Requirement already satisfied: google-pasta>=0.1.6 in /usr/local/lib/python3.6/dist-packages (from tensorflow==1.14) (0.2.0)\n",
            "Requirement already satisfied: protobuf>=3.6.1 in /usr/local/lib/python3.6/dist-packages (from tensorflow==1.14) (3.12.4)\n",
            "Requirement already satisfied: gast>=0.2.0 in /usr/local/lib/python3.6/dist-packages (from tensorflow==1.14) (0.3.3)\n",
            "Requirement already satisfied: keras-applications>=1.0.6 in /usr/local/lib/python3.6/dist-packages (from tensorflow==1.14) (1.0.8)\n",
            "Requirement already satisfied: keras-preprocessing>=1.0.5 in /usr/local/lib/python3.6/dist-packages (from tensorflow==1.14) (1.1.2)\n",
            "Requirement already satisfied: grpcio>=1.8.6 in /usr/local/lib/python3.6/dist-packages (from tensorflow==1.14) (1.32.0)\n",
            "Requirement already satisfied: numpy<2.0,>=1.14.5 in /usr/local/lib/python3.6/dist-packages (from tensorflow==1.14) (1.19.5)\n",
            "Requirement already satisfied: werkzeug>=0.11.15 in /usr/local/lib/python3.6/dist-packages (from tensorboard<1.15.0,>=1.14.0->tensorflow==1.14) (1.0.1)\n",
            "Requirement already satisfied: setuptools>=41.0.0 in /usr/local/lib/python3.6/dist-packages (from tensorboard<1.15.0,>=1.14.0->tensorflow==1.14) (53.0.0)\n",
            "Requirement already satisfied: markdown>=2.6.8 in /usr/local/lib/python3.6/dist-packages (from tensorboard<1.15.0,>=1.14.0->tensorflow==1.14) (3.3.3)\n",
            "Requirement already satisfied: h5py in /usr/local/lib/python3.6/dist-packages (from keras-applications>=1.0.6->tensorflow==1.14) (2.10.0)\n",
            "Requirement already satisfied: importlib-metadata; python_version < \"3.8\" in /usr/local/lib/python3.6/dist-packages (from markdown>=2.6.8->tensorboard<1.15.0,>=1.14.0->tensorflow==1.14) (3.4.0)\n",
            "Requirement already satisfied: typing-extensions>=3.6.4; python_version < \"3.8\" in /usr/local/lib/python3.6/dist-packages (from importlib-metadata; python_version < \"3.8\"->markdown>=2.6.8->tensorboard<1.15.0,>=1.14.0->tensorflow==1.14) (3.7.4.3)\n",
            "Requirement already satisfied: zipp>=0.5 in /usr/local/lib/python3.6/dist-packages (from importlib-metadata; python_version < \"3.8\"->markdown>=2.6.8->tensorboard<1.15.0,>=1.14.0->tensorflow==1.14) (3.4.0)\n"
          ],
          "name": "stdout"
        }
      ]
    },
    {
      "cell_type": "code",
      "metadata": {
        "colab": {
          "base_uri": "https://localhost:8080/"
        },
        "id": "Q5MxAW_P-2N1",
        "outputId": "3224bd83-0030-4e51-fac6-a9ce5337ce17"
      },
      "source": [
        "from google.colab import drive\n",
        "drive.mount('/content/drive', force_remount=True)"
      ],
      "execution_count": 3,
      "outputs": [
        {
          "output_type": "stream",
          "text": [
            "Mounted at /content/drive\n"
          ],
          "name": "stdout"
        }
      ]
    },
    {
      "cell_type": "code",
      "metadata": {
        "colab": {
          "base_uri": "https://localhost:8080/"
        },
        "id": "GvMDuYID_F4x",
        "outputId": "e719c06f-84d8-4112-c712-dc95b60051be"
      },
      "source": [
        "import gpt_2_simple as gpt2\r\n",
        "import os\r\n",
        "import requests"
      ],
      "execution_count": 4,
      "outputs": [
        {
          "output_type": "stream",
          "text": [
            "/usr/local/lib/python3.6/dist-packages/tensorflow/python/framework/dtypes.py:516: FutureWarning: Passing (type, 1) or '1type' as a synonym of type is deprecated; in a future version of numpy, it will be understood as (type, (1,)) / '(1,)type'.\n",
            "  _np_qint8 = np.dtype([(\"qint8\", np.int8, 1)])\n",
            "/usr/local/lib/python3.6/dist-packages/tensorflow/python/framework/dtypes.py:517: FutureWarning: Passing (type, 1) or '1type' as a synonym of type is deprecated; in a future version of numpy, it will be understood as (type, (1,)) / '(1,)type'.\n",
            "  _np_quint8 = np.dtype([(\"quint8\", np.uint8, 1)])\n",
            "/usr/local/lib/python3.6/dist-packages/tensorflow/python/framework/dtypes.py:518: FutureWarning: Passing (type, 1) or '1type' as a synonym of type is deprecated; in a future version of numpy, it will be understood as (type, (1,)) / '(1,)type'.\n",
            "  _np_qint16 = np.dtype([(\"qint16\", np.int16, 1)])\n",
            "/usr/local/lib/python3.6/dist-packages/tensorflow/python/framework/dtypes.py:519: FutureWarning: Passing (type, 1) or '1type' as a synonym of type is deprecated; in a future version of numpy, it will be understood as (type, (1,)) / '(1,)type'.\n",
            "  _np_quint16 = np.dtype([(\"quint16\", np.uint16, 1)])\n",
            "/usr/local/lib/python3.6/dist-packages/tensorflow/python/framework/dtypes.py:520: FutureWarning: Passing (type, 1) or '1type' as a synonym of type is deprecated; in a future version of numpy, it will be understood as (type, (1,)) / '(1,)type'.\n",
            "  _np_qint32 = np.dtype([(\"qint32\", np.int32, 1)])\n",
            "/usr/local/lib/python3.6/dist-packages/tensorflow/python/framework/dtypes.py:525: FutureWarning: Passing (type, 1) or '1type' as a synonym of type is deprecated; in a future version of numpy, it will be understood as (type, (1,)) / '(1,)type'.\n",
            "  np_resource = np.dtype([(\"resource\", np.ubyte, 1)])\n",
            "/usr/local/lib/python3.6/dist-packages/tensorboard/compat/tensorflow_stub/dtypes.py:541: FutureWarning: Passing (type, 1) or '1type' as a synonym of type is deprecated; in a future version of numpy, it will be understood as (type, (1,)) / '(1,)type'.\n",
            "  _np_qint8 = np.dtype([(\"qint8\", np.int8, 1)])\n",
            "/usr/local/lib/python3.6/dist-packages/tensorboard/compat/tensorflow_stub/dtypes.py:542: FutureWarning: Passing (type, 1) or '1type' as a synonym of type is deprecated; in a future version of numpy, it will be understood as (type, (1,)) / '(1,)type'.\n",
            "  _np_quint8 = np.dtype([(\"quint8\", np.uint8, 1)])\n",
            "/usr/local/lib/python3.6/dist-packages/tensorboard/compat/tensorflow_stub/dtypes.py:543: FutureWarning: Passing (type, 1) or '1type' as a synonym of type is deprecated; in a future version of numpy, it will be understood as (type, (1,)) / '(1,)type'.\n",
            "  _np_qint16 = np.dtype([(\"qint16\", np.int16, 1)])\n",
            "/usr/local/lib/python3.6/dist-packages/tensorboard/compat/tensorflow_stub/dtypes.py:544: FutureWarning: Passing (type, 1) or '1type' as a synonym of type is deprecated; in a future version of numpy, it will be understood as (type, (1,)) / '(1,)type'.\n",
            "  _np_quint16 = np.dtype([(\"quint16\", np.uint16, 1)])\n",
            "/usr/local/lib/python3.6/dist-packages/tensorboard/compat/tensorflow_stub/dtypes.py:545: FutureWarning: Passing (type, 1) or '1type' as a synonym of type is deprecated; in a future version of numpy, it will be understood as (type, (1,)) / '(1,)type'.\n",
            "  _np_qint32 = np.dtype([(\"qint32\", np.int32, 1)])\n",
            "/usr/local/lib/python3.6/dist-packages/tensorboard/compat/tensorflow_stub/dtypes.py:550: FutureWarning: Passing (type, 1) or '1type' as a synonym of type is deprecated; in a future version of numpy, it will be understood as (type, (1,)) / '(1,)type'.\n",
            "  np_resource = np.dtype([(\"resource\", np.ubyte, 1)])\n"
          ],
          "name": "stderr"
        }
      ]
    },
    {
      "cell_type": "code",
      "metadata": {
        "id": "oiMBF40C_ijv"
      },
      "source": [
        "model_name = \"124M\"\r\n",
        "if not os.path.isdir(os.path.join(\"models\", model_name)):\r\n",
        "\tprint(f\"Downloading {model_name} model...\")\r\n",
        "\tgpt2.download_gpt2(model_name=model_name)"
      ],
      "execution_count": 5,
      "outputs": []
    },
    {
      "cell_type": "code",
      "metadata": {
        "id": "QnEGbvGE_uw6"
      },
      "source": [
        "file_name = \"content/drive/My\\Drive/lyrics/eminem.txt\"\r\n",
        "sess = gpt2.start_tf_sess()\r\n"
      ],
      "execution_count": 6,
      "outputs": []
    },
    {
      "cell_type": "code",
      "metadata": {
        "id": "9Z8oYRQDU6b0"
      },
      "source": [
        "import urllib\r\n",
        "import numpy as np\r\n",
        "\r\n",
        "# scrape some interesting quotes\r\n",
        "url = 'https://raw.githubusercontent.com/akhiltak/inspirational-quotes/master/Quotes.csv'\r\n",
        "response = urllib.request.urlopen(url).read().decode()\r\n",
        "quotes = []\r\n",
        "lines = response.split('\\n')\r\n",
        "for line in lines[:-1]:\r\n",
        "    quotes.append(line.split(';')[0].replace(\"\\'\", '').replace('*', '').replace('#', '').replace('%', '').replace('&', ''))\r\n",
        "    \r\n",
        "np.savetxt('titles.csv', np.array(quotes[1:]), fmt='%s')"
      ],
      "execution_count": 5,
      "outputs": []
    },
    {
      "cell_type": "code",
      "metadata": {
        "colab": {
          "base_uri": "https://localhost:8080/"
        },
        "id": "emO9tYjD_3-3",
        "outputId": "af7e9af8-ac9a-42f1-bf00-cb4010ff36ad"
      },
      "source": [
        "\r\n",
        "model_name = \"117M\"\r\n",
        "gpt2.download_gpt2(model_name=model_name)   # model is saved into current directory under /models/117M/\r\n",
        "\r\n",
        "sess = gpt2.start_tf_sess()\r\n",
        "gpt2.finetune(sess,\r\n",
        "              'titles.csv',\r\n",
        "              model_name=model_name,\r\n",
        "              steps=1000,\r\n",
        "              save_every=200,\r\n",
        "              sample_every=25)   # steps is max number of training steps\r\n",
        "\r\n",
        "gpt2.generate(sess)"
      ],
      "execution_count": 6,
      "outputs": [
        {
          "output_type": "stream",
          "text": [
            "Fetching checkpoint: 1.05Mit [00:00, 266Mit/s]                                                      \n",
            "Fetching encoder.json: 1.05Mit [00:00, 77.0Mit/s]                                                   \n",
            "Fetching hparams.json: 1.05Mit [00:00, 304Mit/s]                                                    \n",
            "Fetching model.ckpt.data-00000-of-00001: 498Mit [00:02, 232Mit/s]                                   \n",
            "Fetching model.ckpt.index: 1.05Mit [00:00, 218Mit/s]                                                \n",
            "Fetching model.ckpt.meta: 1.05Mit [00:00, 77.8Mit/s]                                                \n",
            "Fetching vocab.bpe: 1.05Mit [00:00, 105Mit/s]                                                       \n"
          ],
          "name": "stderr"
        },
        {
          "output_type": "stream",
          "text": [
            "WARNING:tensorflow:From /usr/local/lib/python3.6/dist-packages/gpt_2_simple/src/sample.py:17: add_dispatch_support.<locals>.wrapper (from tensorflow.python.ops.array_ops) is deprecated and will be removed in a future version.\n",
            "Instructions for updating:\n",
            "Use tf.where in 2.0, which has the same broadcast rule as np.where\n",
            "Loading checkpoint checkpoint/run1/model-0\n",
            "WARNING:tensorflow:From /usr/local/lib/python3.6/dist-packages/tensorflow/python/training/saver.py:1276: checkpoint_exists (from tensorflow.python.training.checkpoint_management) is deprecated and will be removed in a future version.\n",
            "Instructions for updating:\n",
            "Use standard file APIs to check for files with this prefix.\n",
            "INFO:tensorflow:Restoring parameters from checkpoint/run1/model-0\n"
          ],
          "name": "stdout"
        },
        {
          "output_type": "stream",
          "text": [
            "100%|██████████| 1/1 [00:00<00:00,  7.08it/s]"
          ],
          "name": "stderr"
        },
        {
          "output_type": "stream",
          "text": [
            "Loading dataset...\n"
          ],
          "name": "stdout"
        },
        {
          "output_type": "stream",
          "text": [
            "\n"
          ],
          "name": "stderr"
        },
        {
          "output_type": "stream",
          "text": [
            "dataset has 2287443 tokens\n",
            "Training...\n",
            "[1 | 101.84] loss=2.05 avg=2.05\n",
            "[2 | 197.64] loss=2.23 avg=2.14\n",
            "[3 | 292.95] loss=2.15 avg=2.14\n",
            "[4 | 388.35] loss=2.11 avg=2.13\n",
            "[5 | 483.41] loss=2.16 avg=2.14\n",
            "[6 | 578.84] loss=2.09 avg=2.13\n",
            "[7 | 674.26] loss=2.06 avg=2.12\n",
            "[8 | 769.36] loss=2.05 avg=2.11\n",
            "[9 | 864.29] loss=2.07 avg=2.11\n",
            "[10 | 959.39] loss=1.95 avg=2.09\n",
            "[11 | 1054.32] loss=2.01 avg=2.08\n",
            "[12 | 1149.10] loss=1.88 avg=2.06\n",
            "[13 | 1244.12] loss=1.90 avg=2.05\n",
            "[14 | 1338.77] loss=2.01 avg=2.05\n",
            "[15 | 1433.59] loss=1.92 avg=2.04\n",
            "[16 | 1528.44] loss=2.03 avg=2.04\n",
            "[17 | 1622.83] loss=1.95 avg=2.03\n",
            "[18 | 1717.43] loss=1.99 avg=2.03\n",
            "[19 | 1812.10] loss=1.97 avg=2.03\n",
            "[20 | 1906.86] loss=2.01 avg=2.03\n",
            "[21 | 2001.26] loss=1.88 avg=2.02\n",
            "[22 | 2095.39] loss=1.99 avg=2.02\n",
            "[23 | 2190.41] loss=1.99 avg=2.02\n",
            "[24 | 2284.80] loss=2.03 avg=2.02\n",
            "[25 | 2378.99] loss=2.01 avg=2.02\n",
            "======== SAMPLE 1 ========\n",
            "time of the present is a kind of pre-historic period. The first centuries came almost immediately after the fall of Rome, when its leadership was forced and its people were overwhelmed. That is why the present-day period is very different. Our ancestors were born in Europe and so many of them are not necessarily of the order of us. But there would be no need for the world's population to depend on them for food and shelter. This is the greatest problem of our time. We need to help some of them and make sure their lives do not become maledictions which will lead to death because of the lack of food. I fear that if we do not take care of these people, they will also die. And I think that the best way forward, and I believe in this cause and this law for all humanity, is for the whole world to follow this example and not give any one too much power or responsibility. It would be foolish for any man of a great character to be given the power and responsibilities to manage all his lives by himself in the interests of his country. If you believe that the country has the capacity of its people to carry itself, you will be wrong. It is not to be expected that those who have power over men are to do it. It is not a question of whether we can or should do it ourselves. One of the reasons that we will never be satisfied in this society is because we all do it ourselves ourselves, and if we do not have power over our own bodies then we will not have any society in world history or in history if we do not have power over ourselves. We have so many powerful forces shaping society now that we cannot have power over anything we do not want to control. It is a very radical situation indeed. If we were going to stop this tyranny before it started, we would stop it today. If a young man is not being bullied by social security and health system and the politicians and the state that he belongs to will be very afraid of him, then no other people would be able to deal with him. If we stop it first we mean nothing else except that he must become the hero. And we have a whole world of people who have to get to this end. And by the way - the real heroes are the ones that are standing up there for the people in the streets. I cannot find anyone in my history books who is very willing to do so - one hundred and fifty percent willing enough for that to happen. And that is a really important thing. If we stopped the tyranny first and we did not let it happen on our own - in the last 100 years - the problem will be one of many.\"\n",
            "\n",
            "There were many reasons that it happened - we have just discovered that we have to get the economy under way when we will have another decade in this space. Our efforts in all areas have been very successful. We have gone and did what we can to create jobs. We have to have some money - because money can be used to feed the nation - and I believe that we can do this. There will one day be something like that. We need to do something that takes money away from people and money can be used to be used to help people. I think we will need in the future to do this. I think they need money to buy something or they need to give it back to help out the people. They do this because when we take money away we lose something for the rest of our lives. But at the same time we have to get the economy and jobs in order to make this money going on.\n",
            "\n",
            "The issue of money is the most important issue we must make the world a more desirable place in our times. There is an enormous responsibility by our people as to keeping money in circulation - not just in money and money everywhere but also in the lives of people as well as in the business of a nation. It is important that we get the economy running again. If we can make up our mind to pay those taxes - which we are not able to do - we will have more money to spend that is needed to meet every budget needs of our people. And then we will have new jobs - we will have more people working and working or caring or working for the country. And I think the biggest problem is still with poverty. I think we have a lot of people who are having to make a lot of money because it is really not as important to them as money comes from the government - and that has to be taken care of by the people themselves. We are not dealing with an economy now - we have had to deal with our people. You have to deal with the economy of the future in order to have a future where you have less regulation by the authorities. And I think that money - because I have to be absolutely honest with you - does not need to be paid. It can be used not just for the country but also for everybody. I think we are getting away with using money in the service of other people. We are not using\n",
            "\n",
            "[26 | 2561.07] loss=1.77 avg=2.01\n",
            "[27 | 2655.02] loss=1.92 avg=2.00\n",
            "[28 | 2749.09] loss=1.91 avg=2.00\n",
            "[29 | 2843.23] loss=1.91 avg=2.00\n",
            "[30 | 2937.20] loss=2.01 avg=2.00\n",
            "[31 | 3031.12] loss=1.89 avg=1.99\n",
            "[32 | 3125.04] loss=2.06 avg=1.99\n",
            "[33 | 3219.19] loss=1.97 avg=1.99\n",
            "[34 | 3312.80] loss=1.97 avg=1.99\n",
            "[35 | 3407.91] loss=1.92 avg=1.99\n",
            "[36 | 3502.34] loss=1.91 avg=1.99\n",
            "[37 | 3596.81] loss=1.94 avg=1.99\n",
            "interrupted\n",
            "Saving checkpoint/run1/model-37\n",
            ">People seem to have a lot of faith in God<|endoftext|>\n",
            "<|startoftext|>When you start to think about what God is<|endoftext|>\n",
            "<|startoftext|>I am amazed at what God is doing<|endoftext|>\n",
            "<|startoftext|>Ive never thought about what God is doing to me. I think God is a lot of fun to listen to<|endoftext|>\n",
            "<|startoftext|>God is the only thing that will make me a better God|endoftext|>\n",
            "<|startoftext|>It is the most wonderful thing God has ever done to a person.<|endoftext|>\n",
            "<|startoftext|>I dont know<|endoftext|>\n",
            "<|startoftext|>God is a wonderful creation<|endoftext|>\n",
            "<|startoftext|>I have never had a great feeling<|endoftext|>\n",
            "<|startoftext|>I still get to feel what a great God<|endoftext|>\n",
            "<|startoftext|>God has given me great pleasure to listen to<|endoftext|>\n",
            "<|startoftext|>God is the most wonderful God that I know of. He is one of the most wonderful men I have ever met. He is my greatest friend and God-fearing friend<|endoftext|>\n",
            "<|startoftext|>The greatest part of the lives of mortal men is the friendly friendship of God. They feel he is the greatest of all men.<|endoftext|>\n",
            "<|startoftext|>God has made me a bit stronger than I ever thought because I have been so strong.<|endoftext|>\n",
            "<|startoftext|>God has made me a little stronger because I had so many great friends who werent really my friends. I mean<|endoftext|>\n",
            "<|startoftext|>God is making me stronger<|endoftext|>\n",
            "<|startoftext|>God is one of the greatest<|endoftext|>\n",
            "<|startoftext|>I am amazed at God that he has never done anything like this and is doing it so very cool.<|endoftext|>\n",
            "<|startoftext|>I just love God. I love him for the man that I am<|endoftext|>\n",
            "<|startoftext|>God is a great creator<|endoftext|>\n",
            "<|startoftext|>God is an original creation<|endoftext|>\n",
            "<|startoftext|>God is really amazing. I love God<|endoftext|>\n",
            "<|startoftext|>God is my best friend. He is a great man<|endoftext|>\n",
            "<|startoftext|>God loves people. He really does<|endoftext|>\n",
            "<|startoftext|>I got a God that I love. He is great. Tranquility is wonderful. He is a great friend. He is the greatest of all men. He is the greatest God that ever existed. He is the greatest of all men. He is the greatest of all men. He is the greatest of all men. He is the greatest of all men.<|endoftext|>\n",
            "<|startoftext|>I have nothing but God in my life. God is the greatest of all men. God is the greatest of all men.<|endoftext|>\n",
            "<|startoftext|>God is the first great creation. God is the first great creation of all men. God was created by God and was a creation of God<|endoftext|>\n",
            "<|startoftext|>God is the greatest of all men. God is the greatest of all men. God is the greatest of all men.<|endoftext|>\n",
            "<|startoftext|>God made me a little stronger<|endoftext|>\n",
            "<|startoftext|>The biggest thing that God has done is create and make me stronger<|endoftext|>\n",
            "<|startoftext|>God is like a magnifying glass to the world. He makes things bigger and more beautiful.<|endoftext|>\n",
            "<|startoftext|>God was the greatest of all men<|endoftext|>\n",
            "<|startoftext|>God is a great man. He has huge strength and is great in himself.<|endoftext|>\n",
            "<|startoftext|>God is the most wonderful God that I have ever met. He is just a great man.<|endoftext|>\n",
            "<|startoftext|>\n"
          ],
          "name": "stdout"
        }
      ]
    }
  ]
}